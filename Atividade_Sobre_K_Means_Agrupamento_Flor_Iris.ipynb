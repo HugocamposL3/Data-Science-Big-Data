{
  "nbformat": 4,
  "nbformat_minor": 0,
  "metadata": {
    "colab": {
      "name": "Atividade Sobre K-Means Agrupamento Flor Iris.ipynb",
      "provenance": [],
      "collapsed_sections": [],
      "include_colab_link": true
    },
    "kernelspec": {
      "name": "python3",
      "display_name": "Python 3"
    },
    "language_info": {
      "name": "python"
    }
  },
  "cells": [
    {
      "cell_type": "markdown",
      "metadata": {
        "id": "view-in-github",
        "colab_type": "text"
      },
      "source": [
        "<a href=\"https://colab.research.google.com/github/HugocamposL3/Data-Science-Big-Data/blob/main/Atividade_Sobre_K_Means_Agrupamento_Flor_Iris.ipynb\" target=\"_parent\"><img src=\"https://colab.research.google.com/assets/colab-badge.svg\" alt=\"Open In Colab\"/></a>"
      ]
    },
    {
      "cell_type": "markdown",
      "metadata": {
        "id": "7V59v7o970hx"
      },
      "source": [
        "### K-Means - Exemplo"
      ]
    },
    {
      "cell_type": "markdown",
      "metadata": {
        "id": "PgQuiDIc8FvX"
      },
      "source": [
        "Projeto adaptado do link: \n",
        "https://minerandodados.com.br/algoritmo-k-means-python-passo-passo/"
      ]
    },
    {
      "cell_type": "markdown",
      "metadata": {
        "id": "rPsCHuh96PSq"
      },
      "source": [
        "###1. Imports e Carga dos dados"
      ]
    },
    {
      "cell_type": "code",
      "metadata": {
        "id": "XQZEKntr6HNY"
      },
      "source": [
        "# 1.1 - Import das bibliotecas\n",
        "import pandas as pd # Para transformar o dataset em um dataframe\n",
        "import matplotlib.pyplot as plt # Para plotar gráficos\n",
        "from sklearn.datasets import load_iris # Para importar ferramentas de clusteização"
      ],
      "execution_count": 1,
      "outputs": []
    },
    {
      "cell_type": "code",
      "metadata": {
        "id": "cPtwIMN_6JYQ"
      },
      "source": [
        "# 1.2 - Carga do Iris dataset\n",
        "iris = load_iris()"
      ],
      "execution_count": 2,
      "outputs": []
    },
    {
      "cell_type": "code",
      "metadata": {
        "colab": {
          "base_uri": "https://localhost:8080/"
        },
        "id": "i5QZwwkBuf2C",
        "outputId": "2e3f5674-60bd-4a78-a3d3-3d06148054da"
      },
      "source": [
        "# Ainda não é um DataFrama\n",
        "type(iris)"
      ],
      "execution_count": 3,
      "outputs": [
        {
          "output_type": "execute_result",
          "data": {
            "text/plain": [
              "sklearn.utils.Bunch"
            ]
          },
          "metadata": {},
          "execution_count": 3
        }
      ]
    },
    {
      "cell_type": "code",
      "metadata": {
        "colab": {
          "base_uri": "https://localhost:8080/"
        },
        "id": "-wJlnXXdvkTL",
        "outputId": "d3ad759e-379f-44ca-a061-5cccbbfaf091"
      },
      "source": [
        "# Para saber os features do dataset\n",
        "iris.feature_names"
      ],
      "execution_count": 8,
      "outputs": [
        {
          "output_type": "execute_result",
          "data": {
            "text/plain": [
              "['sepal length (cm)',\n",
              " 'sepal width (cm)',\n",
              " 'petal length (cm)',\n",
              " 'petal width (cm)']"
            ]
          },
          "metadata": {},
          "execution_count": 8
        }
      ]
    },
    {
      "cell_type": "code",
      "metadata": {
        "id": "KevcSM5i7qWw"
      },
      "source": [
        "# 1.3 - criando o dataframe \n",
        "df = pd.DataFrame(data=iris.data,columns=iris.feature_names)"
      ],
      "execution_count": 5,
      "outputs": []
    },
    {
      "cell_type": "code",
      "metadata": {
        "colab": {
          "base_uri": "https://localhost:8080/"
        },
        "id": "bQRI71tzurLZ",
        "outputId": "5261ce81-7d5e-4bba-cde4-0a48f76de125"
      },
      "source": [
        "# Agora sim é um dataframe\n",
        "type(df)"
      ],
      "execution_count": 6,
      "outputs": [
        {
          "output_type": "execute_result",
          "data": {
            "text/plain": [
              "pandas.core.frame.DataFrame"
            ]
          },
          "metadata": {},
          "execution_count": 6
        }
      ]
    },
    {
      "cell_type": "code",
      "metadata": {
        "colab": {
          "base_uri": "https://localhost:8080/"
        },
        "id": "VqT6w-n1vHRB",
        "outputId": "1c8ce28a-868a-4385-9e02-e70ab1f9f74c"
      },
      "source": [
        "# Esse dataset já está rotulado, mas vamos fazer de conta que ele não está rotulado\n",
        "iris.target"
      ],
      "execution_count": 7,
      "outputs": [
        {
          "output_type": "execute_result",
          "data": {
            "text/plain": [
              "array([0, 0, 0, 0, 0, 0, 0, 0, 0, 0, 0, 0, 0, 0, 0, 0, 0, 0, 0, 0, 0, 0,\n",
              "       0, 0, 0, 0, 0, 0, 0, 0, 0, 0, 0, 0, 0, 0, 0, 0, 0, 0, 0, 0, 0, 0,\n",
              "       0, 0, 0, 0, 0, 0, 1, 1, 1, 1, 1, 1, 1, 1, 1, 1, 1, 1, 1, 1, 1, 1,\n",
              "       1, 1, 1, 1, 1, 1, 1, 1, 1, 1, 1, 1, 1, 1, 1, 1, 1, 1, 1, 1, 1, 1,\n",
              "       1, 1, 1, 1, 1, 1, 1, 1, 1, 1, 1, 1, 2, 2, 2, 2, 2, 2, 2, 2, 2, 2,\n",
              "       2, 2, 2, 2, 2, 2, 2, 2, 2, 2, 2, 2, 2, 2, 2, 2, 2, 2, 2, 2, 2, 2,\n",
              "       2, 2, 2, 2, 2, 2, 2, 2, 2, 2, 2, 2, 2, 2, 2, 2, 2, 2])"
            ]
          },
          "metadata": {},
          "execution_count": 7
        }
      ]
    },
    {
      "cell_type": "markdown",
      "metadata": {
        "id": "6GquYQjm8ZNt"
      },
      "source": [
        "### 2 - Análise Exploratória dos Dados "
      ]
    },
    {
      "cell_type": "code",
      "metadata": {
        "colab": {
          "base_uri": "https://localhost:8080/",
          "height": 204
        },
        "id": "CtVe-erE8hgZ",
        "outputId": "c8850076-4652-490f-e2ba-b4993160f111"
      },
      "source": [
        "# 2.1 - visualizando as primeiras instâncias de dados (os dados estão nas linhas) não aparece a classe embora já esteja classificado\n",
        "df.head()"
      ],
      "execution_count": 9,
      "outputs": [
        {
          "output_type": "execute_result",
          "data": {
            "text/html": [
              "<div>\n",
              "<style scoped>\n",
              "    .dataframe tbody tr th:only-of-type {\n",
              "        vertical-align: middle;\n",
              "    }\n",
              "\n",
              "    .dataframe tbody tr th {\n",
              "        vertical-align: top;\n",
              "    }\n",
              "\n",
              "    .dataframe thead th {\n",
              "        text-align: right;\n",
              "    }\n",
              "</style>\n",
              "<table border=\"1\" class=\"dataframe\">\n",
              "  <thead>\n",
              "    <tr style=\"text-align: right;\">\n",
              "      <th></th>\n",
              "      <th>sepal length (cm)</th>\n",
              "      <th>sepal width (cm)</th>\n",
              "      <th>petal length (cm)</th>\n",
              "      <th>petal width (cm)</th>\n",
              "    </tr>\n",
              "  </thead>\n",
              "  <tbody>\n",
              "    <tr>\n",
              "      <th>0</th>\n",
              "      <td>5.1</td>\n",
              "      <td>3.5</td>\n",
              "      <td>1.4</td>\n",
              "      <td>0.2</td>\n",
              "    </tr>\n",
              "    <tr>\n",
              "      <th>1</th>\n",
              "      <td>4.9</td>\n",
              "      <td>3.0</td>\n",
              "      <td>1.4</td>\n",
              "      <td>0.2</td>\n",
              "    </tr>\n",
              "    <tr>\n",
              "      <th>2</th>\n",
              "      <td>4.7</td>\n",
              "      <td>3.2</td>\n",
              "      <td>1.3</td>\n",
              "      <td>0.2</td>\n",
              "    </tr>\n",
              "    <tr>\n",
              "      <th>3</th>\n",
              "      <td>4.6</td>\n",
              "      <td>3.1</td>\n",
              "      <td>1.5</td>\n",
              "      <td>0.2</td>\n",
              "    </tr>\n",
              "    <tr>\n",
              "      <th>4</th>\n",
              "      <td>5.0</td>\n",
              "      <td>3.6</td>\n",
              "      <td>1.4</td>\n",
              "      <td>0.2</td>\n",
              "    </tr>\n",
              "  </tbody>\n",
              "</table>\n",
              "</div>"
            ],
            "text/plain": [
              "   sepal length (cm)  sepal width (cm)  petal length (cm)  petal width (cm)\n",
              "0                5.1               3.5                1.4               0.2\n",
              "1                4.9               3.0                1.4               0.2\n",
              "2                4.7               3.2                1.3               0.2\n",
              "3                4.6               3.1                1.5               0.2\n",
              "4                5.0               3.6                1.4               0.2"
            ]
          },
          "metadata": {},
          "execution_count": 9
        }
      ]
    },
    {
      "cell_type": "code",
      "metadata": {
        "colab": {
          "base_uri": "https://localhost:8080/",
          "height": 173
        },
        "id": "c1hrg_Cu_cfA",
        "outputId": "8580b0f6-c5d6-4eca-8de8-a9b0ed3e6c34"
      },
      "source": [
        "# 2.2 - visualizando as primeiras instâncias de dados (os dados estão nas colunas)\n",
        "df.head().T"
      ],
      "execution_count": 10,
      "outputs": [
        {
          "output_type": "execute_result",
          "data": {
            "text/html": [
              "<div>\n",
              "<style scoped>\n",
              "    .dataframe tbody tr th:only-of-type {\n",
              "        vertical-align: middle;\n",
              "    }\n",
              "\n",
              "    .dataframe tbody tr th {\n",
              "        vertical-align: top;\n",
              "    }\n",
              "\n",
              "    .dataframe thead th {\n",
              "        text-align: right;\n",
              "    }\n",
              "</style>\n",
              "<table border=\"1\" class=\"dataframe\">\n",
              "  <thead>\n",
              "    <tr style=\"text-align: right;\">\n",
              "      <th></th>\n",
              "      <th>0</th>\n",
              "      <th>1</th>\n",
              "      <th>2</th>\n",
              "      <th>3</th>\n",
              "      <th>4</th>\n",
              "    </tr>\n",
              "  </thead>\n",
              "  <tbody>\n",
              "    <tr>\n",
              "      <th>sepal length (cm)</th>\n",
              "      <td>5.1</td>\n",
              "      <td>4.9</td>\n",
              "      <td>4.7</td>\n",
              "      <td>4.6</td>\n",
              "      <td>5.0</td>\n",
              "    </tr>\n",
              "    <tr>\n",
              "      <th>sepal width (cm)</th>\n",
              "      <td>3.5</td>\n",
              "      <td>3.0</td>\n",
              "      <td>3.2</td>\n",
              "      <td>3.1</td>\n",
              "      <td>3.6</td>\n",
              "    </tr>\n",
              "    <tr>\n",
              "      <th>petal length (cm)</th>\n",
              "      <td>1.4</td>\n",
              "      <td>1.4</td>\n",
              "      <td>1.3</td>\n",
              "      <td>1.5</td>\n",
              "      <td>1.4</td>\n",
              "    </tr>\n",
              "    <tr>\n",
              "      <th>petal width (cm)</th>\n",
              "      <td>0.2</td>\n",
              "      <td>0.2</td>\n",
              "      <td>0.2</td>\n",
              "      <td>0.2</td>\n",
              "      <td>0.2</td>\n",
              "    </tr>\n",
              "  </tbody>\n",
              "</table>\n",
              "</div>"
            ],
            "text/plain": [
              "                     0    1    2    3    4\n",
              "sepal length (cm)  5.1  4.9  4.7  4.6  5.0\n",
              "sepal width (cm)   3.5  3.0  3.2  3.1  3.6\n",
              "petal length (cm)  1.4  1.4  1.3  1.5  1.4\n",
              "petal width (cm)   0.2  0.2  0.2  0.2  0.2"
            ]
          },
          "metadata": {},
          "execution_count": 10
        }
      ]
    },
    {
      "cell_type": "code",
      "metadata": {
        "id": "6KCBHEZ__j72"
      },
      "source": [
        "# 2.3 - conhecendo os tipos de dados do dataset\n",
        "df.info()"
      ],
      "execution_count": null,
      "outputs": []
    },
    {
      "cell_type": "markdown",
      "metadata": {
        "id": "zrNfqW-IAHW3"
      },
      "source": [
        "### 3 - Treinando o k-Means"
      ]
    },
    {
      "cell_type": "code",
      "metadata": {
        "id": "q1_a3JhtBCN9"
      },
      "source": [
        "# 3.1 - padronização dos dados (método min-max)\n",
        "df_scaled = (df - df.min())/(df.max()-df.min())"
      ],
      "execution_count": 12,
      "outputs": []
    },
    {
      "cell_type": "code",
      "metadata": {
        "colab": {
          "base_uri": "https://localhost:8080/",
          "height": 204
        },
        "id": "zgGfSm3gBOma",
        "outputId": "40bf265a-3bbf-47c9-f469-e1deee1b60ec"
      },
      "source": [
        "# 3.2 - exibindo os dados padronizados\n",
        "df_scaled.head()"
      ],
      "execution_count": 13,
      "outputs": [
        {
          "output_type": "execute_result",
          "data": {
            "text/html": [
              "<div>\n",
              "<style scoped>\n",
              "    .dataframe tbody tr th:only-of-type {\n",
              "        vertical-align: middle;\n",
              "    }\n",
              "\n",
              "    .dataframe tbody tr th {\n",
              "        vertical-align: top;\n",
              "    }\n",
              "\n",
              "    .dataframe thead th {\n",
              "        text-align: right;\n",
              "    }\n",
              "</style>\n",
              "<table border=\"1\" class=\"dataframe\">\n",
              "  <thead>\n",
              "    <tr style=\"text-align: right;\">\n",
              "      <th></th>\n",
              "      <th>sepal length (cm)</th>\n",
              "      <th>sepal width (cm)</th>\n",
              "      <th>petal length (cm)</th>\n",
              "      <th>petal width (cm)</th>\n",
              "    </tr>\n",
              "  </thead>\n",
              "  <tbody>\n",
              "    <tr>\n",
              "      <th>0</th>\n",
              "      <td>0.222222</td>\n",
              "      <td>0.625000</td>\n",
              "      <td>0.067797</td>\n",
              "      <td>0.041667</td>\n",
              "    </tr>\n",
              "    <tr>\n",
              "      <th>1</th>\n",
              "      <td>0.166667</td>\n",
              "      <td>0.416667</td>\n",
              "      <td>0.067797</td>\n",
              "      <td>0.041667</td>\n",
              "    </tr>\n",
              "    <tr>\n",
              "      <th>2</th>\n",
              "      <td>0.111111</td>\n",
              "      <td>0.500000</td>\n",
              "      <td>0.050847</td>\n",
              "      <td>0.041667</td>\n",
              "    </tr>\n",
              "    <tr>\n",
              "      <th>3</th>\n",
              "      <td>0.083333</td>\n",
              "      <td>0.458333</td>\n",
              "      <td>0.084746</td>\n",
              "      <td>0.041667</td>\n",
              "    </tr>\n",
              "    <tr>\n",
              "      <th>4</th>\n",
              "      <td>0.194444</td>\n",
              "      <td>0.666667</td>\n",
              "      <td>0.067797</td>\n",
              "      <td>0.041667</td>\n",
              "    </tr>\n",
              "  </tbody>\n",
              "</table>\n",
              "</div>"
            ],
            "text/plain": [
              "   sepal length (cm)  sepal width (cm)  petal length (cm)  petal width (cm)\n",
              "0           0.222222          0.625000           0.067797          0.041667\n",
              "1           0.166667          0.416667           0.067797          0.041667\n",
              "2           0.111111          0.500000           0.050847          0.041667\n",
              "3           0.083333          0.458333           0.084746          0.041667\n",
              "4           0.194444          0.666667           0.067797          0.041667"
            ]
          },
          "metadata": {},
          "execution_count": 13
        }
      ]
    },
    {
      "cell_type": "code",
      "metadata": {
        "colab": {
          "base_uri": "https://localhost:8080/",
          "height": 173
        },
        "id": "PxZ5LIkMxdjL",
        "outputId": "808cbecb-2058-4ae5-a34e-e586ea92fa90"
      },
      "source": [
        "df_scaled.head().T"
      ],
      "execution_count": 14,
      "outputs": [
        {
          "output_type": "execute_result",
          "data": {
            "text/html": [
              "<div>\n",
              "<style scoped>\n",
              "    .dataframe tbody tr th:only-of-type {\n",
              "        vertical-align: middle;\n",
              "    }\n",
              "\n",
              "    .dataframe tbody tr th {\n",
              "        vertical-align: top;\n",
              "    }\n",
              "\n",
              "    .dataframe thead th {\n",
              "        text-align: right;\n",
              "    }\n",
              "</style>\n",
              "<table border=\"1\" class=\"dataframe\">\n",
              "  <thead>\n",
              "    <tr style=\"text-align: right;\">\n",
              "      <th></th>\n",
              "      <th>0</th>\n",
              "      <th>1</th>\n",
              "      <th>2</th>\n",
              "      <th>3</th>\n",
              "      <th>4</th>\n",
              "    </tr>\n",
              "  </thead>\n",
              "  <tbody>\n",
              "    <tr>\n",
              "      <th>sepal length (cm)</th>\n",
              "      <td>0.222222</td>\n",
              "      <td>0.166667</td>\n",
              "      <td>0.111111</td>\n",
              "      <td>0.083333</td>\n",
              "      <td>0.194444</td>\n",
              "    </tr>\n",
              "    <tr>\n",
              "      <th>sepal width (cm)</th>\n",
              "      <td>0.625000</td>\n",
              "      <td>0.416667</td>\n",
              "      <td>0.500000</td>\n",
              "      <td>0.458333</td>\n",
              "      <td>0.666667</td>\n",
              "    </tr>\n",
              "    <tr>\n",
              "      <th>petal length (cm)</th>\n",
              "      <td>0.067797</td>\n",
              "      <td>0.067797</td>\n",
              "      <td>0.050847</td>\n",
              "      <td>0.084746</td>\n",
              "      <td>0.067797</td>\n",
              "    </tr>\n",
              "    <tr>\n",
              "      <th>petal width (cm)</th>\n",
              "      <td>0.041667</td>\n",
              "      <td>0.041667</td>\n",
              "      <td>0.041667</td>\n",
              "      <td>0.041667</td>\n",
              "      <td>0.041667</td>\n",
              "    </tr>\n",
              "  </tbody>\n",
              "</table>\n",
              "</div>"
            ],
            "text/plain": [
              "                          0         1         2         3         4\n",
              "sepal length (cm)  0.222222  0.166667  0.111111  0.083333  0.194444\n",
              "sepal width (cm)   0.625000  0.416667  0.500000  0.458333  0.666667\n",
              "petal length (cm)  0.067797  0.067797  0.050847  0.084746  0.067797\n",
              "petal width (cm)   0.041667  0.041667  0.041667  0.041667  0.041667"
            ]
          },
          "metadata": {},
          "execution_count": 14
        }
      ]
    },
    {
      "cell_type": "code",
      "metadata": {
        "id": "_pwCQLDgB9-9"
      },
      "source": [
        "# 3.3 - carregando a biblioteca do KMeans\n",
        "from sklearn.cluster import KMeans"
      ],
      "execution_count": 15,
      "outputs": []
    },
    {
      "cell_type": "code",
      "metadata": {
        "id": "ddkN_fY_Co4F"
      },
      "source": [
        "# 3.4 - instanciando o agrupador\n",
        "jose = KMeans(n_clusters = 3, init = 'random') # Posição do centróide aleatório com 3 centróides -  também pode ser assim KMeans(n_clusters = 3, init = 'random', max.iter = 200)"
      ],
      "execution_count": 23,
      "outputs": []
    },
    {
      "cell_type": "code",
      "metadata": {
        "colab": {
          "base_uri": "https://localhost:8080/"
        },
        "id": "NKqUvak-CtXX",
        "outputId": "3ef02f3b-bea9-4621-9b88-03f8bc06563f"
      },
      "source": [
        "# 3.5 - fazendo o agrupamento\n",
        "jose.fit(df_scaled)"
      ],
      "execution_count": 24,
      "outputs": [
        {
          "output_type": "execute_result",
          "data": {
            "text/plain": [
              "KMeans(algorithm='auto', copy_x=True, init='random', max_iter=300, n_clusters=3,\n",
              "       n_init=10, n_jobs=None, precompute_distances='auto', random_state=None,\n",
              "       tol=0.0001, verbose=0)"
            ]
          },
          "metadata": {},
          "execution_count": 24
        }
      ]
    },
    {
      "cell_type": "code",
      "metadata": {
        "colab": {
          "base_uri": "https://localhost:8080/"
        },
        "id": "zvYwjZkVC0SC",
        "outputId": "a5b101da-e512-47c8-c6e7-e63cae7ab0c5"
      },
      "source": [
        "# 3.6 - Exibindo as coordenadas dos centroids\n",
        "jose.cluster_centers_"
      ],
      "execution_count": 27,
      "outputs": [
        {
          "output_type": "execute_result",
          "data": {
            "text/plain": [
              "array([[0.70726496, 0.4508547 , 0.79704476, 0.82478632],\n",
              "       [0.44125683, 0.30737705, 0.57571548, 0.54918033],\n",
              "       [0.19611111, 0.595     , 0.07830508, 0.06083333]])"
            ]
          },
          "metadata": {},
          "execution_count": 27
        }
      ]
    },
    {
      "cell_type": "code",
      "metadata": {
        "id": "dy1dJ_eMG3Gx"
      },
      "source": [
        "# 3.7 - Usando fid_transform() para retornar a tabela de distâncias\n",
        "distancias = jose.fit_transform(df_scaled)"
      ],
      "execution_count": 32,
      "outputs": []
    },
    {
      "cell_type": "code",
      "metadata": {
        "id": "xFkLfVliHMj0"
      },
      "source": [
        "# 3.8 - exibindo a tabela de distâncias\n",
        "distancias"
      ],
      "execution_count": null,
      "outputs": []
    },
    {
      "cell_type": "code",
      "metadata": {
        "colab": {
          "base_uri": "https://localhost:8080/"
        },
        "id": "Qpv9eWcbHlsL",
        "outputId": "47257336-be81-4307-9012-4c6850145f48"
      },
      "source": [
        "# 3.9 - exibindo o resultado da classificação\n",
        "jose.labels_"
      ],
      "execution_count": 34,
      "outputs": [
        {
          "output_type": "execute_result",
          "data": {
            "text/plain": [
              "array([1, 1, 1, 1, 1, 1, 1, 1, 1, 1, 1, 1, 1, 1, 1, 1, 1, 1, 1, 1, 1, 1,\n",
              "       1, 1, 1, 1, 1, 1, 1, 1, 1, 1, 1, 1, 1, 1, 1, 1, 1, 1, 1, 1, 1, 1,\n",
              "       1, 1, 1, 1, 1, 1, 2, 0, 2, 0, 0, 0, 0, 0, 0, 0, 0, 0, 0, 0, 0, 0,\n",
              "       0, 0, 0, 0, 0, 0, 0, 0, 0, 0, 0, 2, 0, 0, 0, 0, 0, 0, 0, 0, 0, 0,\n",
              "       0, 0, 0, 0, 0, 0, 0, 0, 0, 0, 0, 0, 2, 0, 2, 2, 2, 2, 0, 2, 2, 2,\n",
              "       2, 2, 2, 0, 2, 2, 2, 2, 2, 0, 2, 0, 2, 0, 2, 2, 0, 0, 2, 2, 2, 2,\n",
              "       2, 0, 0, 2, 2, 2, 0, 2, 2, 2, 0, 2, 2, 2, 0, 2, 2, 0], dtype=int32)"
            ]
          },
          "metadata": {},
          "execution_count": 34
        }
      ]
    },
    {
      "cell_type": "code",
      "metadata": {
        "colab": {
          "base_uri": "https://localhost:8080/",
          "height": 295
        },
        "id": "kLEATsF0OzI1",
        "outputId": "7b9a6c87-076e-4115-d7c4-5ad7c3d5c583"
      },
      "source": [
        "# 3.10 para plotar um gráfico de pontos com cores\n",
        "plt.scatter(df_scaled.iloc[:,0], df_scaled.iloc[:,1]) # Escolha das colunas (sepal length e sepal width) eixo X e Eixo y\n",
        "plt.scatter(jose.cluster_centers_[:, 0], jose.cluster_centers_[:, 1], s=300, c='red')\n",
        "plt.title('Iris Clusters and Centroids')\n",
        "plt.xlabel('sepal length (cm)')\n",
        "plt.ylabel('sepal width (cm)')\n",
        "plt.show()"
      ],
      "execution_count": 37,
      "outputs": [
        {
          "output_type": "display_data",
          "data": {
            "image/png": "[encoded data removed]",
            "text/plain": [
              "<Figure size 432x288 with 1 Axes>"
            ]
          },
          "metadata": {
            "needs_background": "light"
          }
        }
      ]
    },
    {
      "cell_type": "code",
      "metadata": {
        "colab": {
          "base_uri": "https://localhost:8080/",
          "height": 295
        },
        "id": "egTgxwRbTghk",
        "outputId": "e8f281a4-9528-4ae4-9db9-74b78e4549c3"
      },
      "source": [
        "# 3.10 para plotar um gráfico de pontos com cores\n",
        "plt.scatter(df_scaled.iloc[:, 0], df_scaled.iloc[:,1], s = 100, c = jose.labels_)# Escolha das colunas (sepal length e sepal width) eixo X e Eixo y - C = cores do labels - S = tamanho dos pontos   \n",
        "plt.scatter(jose.cluster_centers_[:, 0], jose.cluster_centers_[:, 1], s = 300, c = 'red',label = 'Centroids') # S = tamanho dos centroides \n",
        "plt.title('Iris Clusters and Centroids')\n",
        "plt.xlabel('Sepal Length (cm)')\n",
        "plt.ylabel('Sepal Width (cm)')\n",
        "plt.legend()\n",
        "plt.show()"
      ],
      "execution_count": 39,
      "outputs": [
        {
          "output_type": "display_data",
          "data": {
            "image/png": "[encoded data removed]",
            "text/plain": [
              "<Figure size 432x288 with 1 Axes>"
            ]
          },
          "metadata": {
            "needs_background": "light"
          }
        }
      ]
    },
    {
      "cell_type": "code",
      "metadata": {
        "colab": {
          "base_uri": "https://localhost:8080/",
          "height": 295
        },
        "id": "vPDiIFce4X12",
        "outputId": "55d9082e-799d-4eaf-f9c5-0508b3356c03"
      },
      "source": [
        "plt.scatter(df_scaled.iloc[:, 2], df_scaled.iloc[:,3], s = 100, c = jose.labels_)# Escolha das colunas (sepal length e sepal width) eixo X e Eixo y - C = cores do labels - S = tamanho dos pontos   \n",
        "plt.scatter(jose.cluster_centers_[:, 2], jose.cluster_centers_[:, 3], s = 300, c = 'red',label = 'Centroids') # S = tamanho dos centroides \n",
        "plt.title('Iris Clusters and Centroids')\n",
        "plt.xlabel('petal length (cm)')\n",
        "plt.ylabel('petal width (cm)')\n",
        "plt.legend()\n",
        "plt.show()"
      ],
      "execution_count": 41,
      "outputs": [
        {
          "output_type": "display_data",
          "data": {
            "image/png": "[encoded data removed]",
            "text/plain": [
              "<Figure size 432x288 with 1 Axes>"
            ]
          },
          "metadata": {
            "needs_background": "light"
          }
        }
      ]
    },
    {
      "cell_type": "markdown",
      "metadata": {
        "id": "J0wP-IYnIPwH"
      },
      "source": [
        "### 4 - O método do Cotovelo (Elbow Method)"
      ]
    },
    {
      "cell_type": "code",
      "metadata": {
        "id": "heKfxTDO7_4W"
      },
      "source": [
        "# 4.1 - criando o array para armazenar o Within-Cluster-Sum-of-Squares\n",
        "wcss = []"
      ],
      "execution_count": 46,
      "outputs": []
    },
    {
      "cell_type": "code",
      "metadata": {
        "colab": {
          "base_uri": "https://localhost:8080/"
        },
        "id": "LniTrwGpIlro",
        "outputId": "358b72ca-72e4-406f-cc9a-1b3e620bd9d3"
      },
      "source": [
        "# 4.2 - Executando k-means variando o número de agrupamentos\n",
        "# o atributo inertia_ corresponde ao somatório dos erros quadráticos das instâncias de cada cluster\n",
        "for i in range(1, 11):\n",
        "    kmeans = KMeans(n_clusters = i, init = 'random')\n",
        "    kmeans.fit(df_scaled)\n",
        "    print (i,kmeans.inertia_)\n",
        "    wcss.append(kmeans.inertia_)  "
      ],
      "execution_count": 47,
      "outputs": [
        {
          "output_type": "stream",
          "name": "stdout",
          "text": [
            "1 41.16611042137328\n",
            "2 12.127790750538194\n",
            "3 6.982216473785234\n",
            "4 5.516933472040371\n",
            "5 4.580948640117294\n",
            "6 4.0408543198348\n",
            "7 3.4765701484818883\n",
            "8 3.1605536541727757\n",
            "9 2.810480399396186\n",
            "10 2.7062214100658397\n"
          ]
        }
      ]
    },
    {
      "cell_type": "code",
      "metadata": {
        "colab": {
          "base_uri": "https://localhost:8080/",
          "height": 295
        },
        "id": "D8JfhuCqIoKh",
        "outputId": "b2811a90-7299-4d13-be49-b2ddc14a6dd7"
      },
      "source": [
        "# 4.3 - gráfico do cotovelo  - Seguindo pelo o gráfico o numero de K's ideias é o numero 03.\n",
        "plt.plot(range(1, 11), wcss)\n",
        "plt.title('O Metodo Elbow')\n",
        "plt.xlabel('Numero de Clusters')\n",
        "plt.ylabel('WSS') #within cluster sum of squares\n",
        "plt.show()"
      ],
      "execution_count": 48,
      "outputs": [
        {
          "output_type": "display_data",
          "data": {
            "image/png": "[encoded data removed]",
            "text/plain": [
              "<Figure size 432x288 with 1 Axes>"
            ]
          },
          "metadata": {
            "needs_background": "light"
          }
        }
      ]
    },
    {
      "cell_type": "markdown",
      "metadata": {
        "id": "VoQdKxqQRcHn"
      },
      "source": [
        "### 5 - Classificando novos dados"
      ]
    },
    {
      "cell_type": "code",
      "metadata": {
        "id": "9NaaRpDKRcpP"
      },
      "source": [
        "# 5.1 - criando novos dados\n",
        "novos_dados = [\n",
        "        [ 4.12, 3.4, 1.6, 0.7],\n",
        "        [ 5.2, 5.8, 5.2, 6.7],\n",
        "        [ 3.1, 3.5, 3.3, 3.0]\n",
        "    ]"
      ],
      "execution_count": 49,
      "outputs": []
    },
    {
      "cell_type": "code",
      "metadata": {
        "colab": {
          "base_uri": "https://localhost:8080/"
        },
        "id": "nMahM6ma8pYu",
        "outputId": "98af0dc2-f374-4bc5-887a-2183f32c8889"
      },
      "source": [
        "#5.1a - Criando um k-means novo pq os novos dados não estão escalados\n",
        "maria = KMeans(n_clusters=3,init='random')\n",
        "maria.fit(df)"
      ],
      "execution_count": 52,
      "outputs": [
        {
          "output_type": "execute_result",
          "data": {
            "text/plain": [
              "KMeans(algorithm='auto', copy_x=True, init='random', max_iter=300, n_clusters=3,\n",
              "       n_init=10, n_jobs=None, precompute_distances='auto', random_state=None,\n",
              "       tol=0.0001, verbose=0)"
            ]
          },
          "metadata": {},
          "execution_count": 52
        }
      ]
    },
    {
      "cell_type": "code",
      "metadata": {
        "colab": {
          "base_uri": "https://localhost:8080/"
        },
        "id": "Vgx5l7cARrM5",
        "outputId": "ea96ae04-1a07-4c60-8733-2d3cf2dc2631"
      },
      "source": [
        "# 5.2 - Encontrando a classe\n",
        "maria.predict(novos_dados)"
      ],
      "execution_count": 53,
      "outputs": [
        {
          "output_type": "execute_result",
          "data": {
            "text/plain": [
              "array([2, 1, 0], dtype=int32)"
            ]
          },
          "metadata": {},
          "execution_count": 53
        }
      ]
    },
    {
      "cell_type": "markdown",
      "metadata": {
        "id": "vGNkbiyJT1bX"
      },
      "source": [
        "# Atividade\n",
        "\n",
        "Implementar o método de Agrupamento k-Means de uma das seguintes fontes:\n",
        "\n",
        "\n",
        "\n",
        "1. https://medium.com/programadores-ajudando-programadores/k-means-o-que-%C3%A9-como-funciona-aplica%C3%A7%C3%B5es-e-exemplo-em-python-6021df6e2572\n",
        "\n",
        "2. https://www.analyticsvidhya.com/blog/2021/04/k-means-clustering-simplified-in-python/\n",
        "\n",
        "3. https://datatofish.com/k-means-clustering-python/\n",
        "\n",
        "\n",
        "\n",
        "\n",
        "\n",
        "\n",
        "\n",
        "\n",
        "\n",
        "\n",
        "\n"
      ]
    }
  ]
}