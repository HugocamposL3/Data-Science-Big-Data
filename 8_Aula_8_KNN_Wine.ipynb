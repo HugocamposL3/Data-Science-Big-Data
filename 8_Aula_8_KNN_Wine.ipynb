{
  "nbformat": 4,
  "nbformat_minor": 0,
  "metadata": {
    "colab": {
      "name": "8.Aula 8 KNN_Wine.ipynb",
      "provenance": [],
      "collapsed_sections": [
        "JEPYUBcCuSkE",
        "AC-C__onxlTf",
        "-WU1_kOv9gNA"
      ],
      "include_colab_link": true
    },
    "kernelspec": {
      "name": "python3",
      "display_name": "Python 3"
    },
    "language_info": {
      "name": "python"
    }
  },
  "cells": [
    {
      "cell_type": "markdown",
      "metadata": {
        "id": "view-in-github",
        "colab_type": "text"
      },
      "source": [
        "<a href=\"https://colab.research.google.com/github/HugocamposL3/Data-Science-Big-Data/blob/main/8_Aula_8_KNN_Wine.ipynb\" target=\"_parent\"><img src=\"https://colab.research.google.com/assets/colab-badge.svg\" alt=\"Open In Colab\"/></a>"
      ]
    },
    {
      "cell_type": "markdown",
      "metadata": {
        "id": "vFno6ihbQi_j"
      },
      "source": [
        "# KNN - K Nearest Neighbor\n",
        "\n",
        "## Aprendizagem Supervisionada - Classificador\n",
        "\n",
        "### fonte: https://minerandodados.com.br/machine-learning-na-pratica-knn-python/\n",
        "\n",
        "### Dataset: https://archive.ics.uci.edu/ml/datasets/wine\n",
        "\n",
        "classificar a qualidade de vinho tipo"
      ]
    },
    {
      "cell_type": "markdown",
      "metadata": {
        "id": "awQi97h_W8dc"
      },
      "source": [
        "Este noteook contém a implementação do KNN baseada na fonte indicada acima. <br/> Ele não é uma cópia fiel dessa fonte.\n"
      ]
    },
    {
      "cell_type": "markdown",
      "metadata": {
        "id": "fAT82DOJZsS5"
      },
      "source": [
        "### 1 - Import das bibliotecas e Carga do CSV"
      ]
    },
    {
      "cell_type": "code",
      "metadata": {
        "id": "OpC34LDEXXj1"
      },
      "source": [
        "# 1.1 - import das bibliotecas \n",
        "from sklearn import datasets\n",
        "import pandas as pd\n",
        "import matplotlib.pyplot as plt"
      ],
      "execution_count": 1,
      "outputs": []
    },
    {
      "cell_type": "code",
      "metadata": {
        "id": "7ajdxJhmYeVJ"
      },
      "source": [
        "# 1.2 - Carregando a base de dados através do Sklearn\n",
        "wine = datasets.load_wine()"
      ],
      "execution_count": 2,
      "outputs": []
    },
    {
      "cell_type": "code",
      "metadata": {
        "colab": {
          "base_uri": "https://localhost:8080/"
        },
        "id": "SDSs8tEuy2hH",
        "outputId": "7666806a-239d-499f-87e7-efad120d26ca"
      },
      "source": [
        "type(wine)"
      ],
      "execution_count": 3,
      "outputs": [
        {
          "output_type": "execute_result",
          "data": {
            "text/plain": [
              "sklearn.utils.Bunch"
            ]
          },
          "metadata": {},
          "execution_count": 3
        }
      ]
    },
    {
      "cell_type": "code",
      "metadata": {
        "id": "AwWyX-IRas_V"
      },
      "source": [
        "# 1.3 - criando o dataframe \n",
        "df = pd.DataFrame(data=wine.data,columns=wine.feature_names)"
      ],
      "execution_count": 4,
      "outputs": []
    },
    {
      "cell_type": "markdown",
      "metadata": {
        "id": "sx6zWZYJZ8wv"
      },
      "source": [
        "### 2 - Análise Exploratória dos Dados "
      ]
    },
    {
      "cell_type": "code",
      "metadata": {
        "id": "EAEoTputYqbZ"
      },
      "source": [
        "# 2.1 - Criando a coluna com os valores da variável target.\n",
        "df['class'] = wine.target"
      ],
      "execution_count": 5,
      "outputs": []
    },
    {
      "cell_type": "code",
      "metadata": {
        "id": "v9UqVnlRbV2L",
        "colab": {
          "base_uri": "https://localhost:8080/",
          "height": 204
        },
        "outputId": "44abea30-1474-4ccf-c1ce-cc81b9f72011"
      },
      "source": [
        "# 2.2 - visualizando as primeiras instâncias de dados (os dados estão nas linhas)\n",
        "df.head()"
      ],
      "execution_count": 6,
      "outputs": [
        {
          "output_type": "execute_result",
          "data": {
            "text/html": [
              "<div>\n",
              "<style scoped>\n",
              "    .dataframe tbody tr th:only-of-type {\n",
              "        vertical-align: middle;\n",
              "    }\n",
              "\n",
              "    .dataframe tbody tr th {\n",
              "        vertical-align: top;\n",
              "    }\n",
              "\n",
              "    .dataframe thead th {\n",
              "        text-align: right;\n",
              "    }\n",
              "</style>\n",
              "<table border=\"1\" class=\"dataframe\">\n",
              "  <thead>\n",
              "    <tr style=\"text-align: right;\">\n",
              "      <th></th>\n",
              "      <th>alcohol</th>\n",
              "      <th>malic_acid</th>\n",
              "      <th>ash</th>\n",
              "      <th>alcalinity_of_ash</th>\n",
              "      <th>magnesium</th>\n",
              "      <th>total_phenols</th>\n",
              "      <th>flavanoids</th>\n",
              "      <th>nonflavanoid_phenols</th>\n",
              "      <th>proanthocyanins</th>\n",
              "      <th>color_intensity</th>\n",
              "      <th>hue</th>\n",
              "      <th>od280/od315_of_diluted_wines</th>\n",
              "      <th>proline</th>\n",
              "      <th>class</th>\n",
              "    </tr>\n",
              "  </thead>\n",
              "  <tbody>\n",
              "    <tr>\n",
              "      <th>0</th>\n",
              "      <td>14.23</td>\n",
              "      <td>1.71</td>\n",
              "      <td>2.43</td>\n",
              "      <td>15.6</td>\n",
              "      <td>127.0</td>\n",
              "      <td>2.80</td>\n",
              "      <td>3.06</td>\n",
              "      <td>0.28</td>\n",
              "      <td>2.29</td>\n",
              "      <td>5.64</td>\n",
              "      <td>1.04</td>\n",
              "      <td>3.92</td>\n",
              "      <td>1065.0</td>\n",
              "      <td>0</td>\n",
              "    </tr>\n",
              "    <tr>\n",
              "      <th>1</th>\n",
              "      <td>13.20</td>\n",
              "      <td>1.78</td>\n",
              "      <td>2.14</td>\n",
              "      <td>11.2</td>\n",
              "      <td>100.0</td>\n",
              "      <td>2.65</td>\n",
              "      <td>2.76</td>\n",
              "      <td>0.26</td>\n",
              "      <td>1.28</td>\n",
              "      <td>4.38</td>\n",
              "      <td>1.05</td>\n",
              "      <td>3.40</td>\n",
              "      <td>1050.0</td>\n",
              "      <td>0</td>\n",
              "    </tr>\n",
              "    <tr>\n",
              "      <th>2</th>\n",
              "      <td>13.16</td>\n",
              "      <td>2.36</td>\n",
              "      <td>2.67</td>\n",
              "      <td>18.6</td>\n",
              "      <td>101.0</td>\n",
              "      <td>2.80</td>\n",
              "      <td>3.24</td>\n",
              "      <td>0.30</td>\n",
              "      <td>2.81</td>\n",
              "      <td>5.68</td>\n",
              "      <td>1.03</td>\n",
              "      <td>3.17</td>\n",
              "      <td>1185.0</td>\n",
              "      <td>0</td>\n",
              "    </tr>\n",
              "    <tr>\n",
              "      <th>3</th>\n",
              "      <td>14.37</td>\n",
              "      <td>1.95</td>\n",
              "      <td>2.50</td>\n",
              "      <td>16.8</td>\n",
              "      <td>113.0</td>\n",
              "      <td>3.85</td>\n",
              "      <td>3.49</td>\n",
              "      <td>0.24</td>\n",
              "      <td>2.18</td>\n",
              "      <td>7.80</td>\n",
              "      <td>0.86</td>\n",
              "      <td>3.45</td>\n",
              "      <td>1480.0</td>\n",
              "      <td>0</td>\n",
              "    </tr>\n",
              "    <tr>\n",
              "      <th>4</th>\n",
              "      <td>13.24</td>\n",
              "      <td>2.59</td>\n",
              "      <td>2.87</td>\n",
              "      <td>21.0</td>\n",
              "      <td>118.0</td>\n",
              "      <td>2.80</td>\n",
              "      <td>2.69</td>\n",
              "      <td>0.39</td>\n",
              "      <td>1.82</td>\n",
              "      <td>4.32</td>\n",
              "      <td>1.04</td>\n",
              "      <td>2.93</td>\n",
              "      <td>735.0</td>\n",
              "      <td>0</td>\n",
              "    </tr>\n",
              "  </tbody>\n",
              "</table>\n",
              "</div>"
            ],
            "text/plain": [
              "   alcohol  malic_acid   ash  ...  od280/od315_of_diluted_wines  proline  class\n",
              "0    14.23        1.71  2.43  ...                          3.92   1065.0      0\n",
              "1    13.20        1.78  2.14  ...                          3.40   1050.0      0\n",
              "2    13.16        2.36  2.67  ...                          3.17   1185.0      0\n",
              "3    14.37        1.95  2.50  ...                          3.45   1480.0      0\n",
              "4    13.24        2.59  2.87  ...                          2.93    735.0      0\n",
              "\n",
              "[5 rows x 14 columns]"
            ]
          },
          "metadata": {},
          "execution_count": 6
        }
      ]
    },
    {
      "cell_type": "code",
      "metadata": {
        "id": "SpfS3er0bkAD",
        "colab": {
          "base_uri": "https://localhost:8080/",
          "height": 483
        },
        "outputId": "808e19b6-7332-44b2-9788-972b20d9bf7c"
      },
      "source": [
        "# 2.3 - visualizando as primeiras instâncias de dados (os dados estão nas colunas)\n",
        "df.head().T # Para fazer a matriz transposta"
      ],
      "execution_count": 7,
      "outputs": [
        {
          "output_type": "execute_result",
          "data": {
            "text/html": [
              "<div>\n",
              "<style scoped>\n",
              "    .dataframe tbody tr th:only-of-type {\n",
              "        vertical-align: middle;\n",
              "    }\n",
              "\n",
              "    .dataframe tbody tr th {\n",
              "        vertical-align: top;\n",
              "    }\n",
              "\n",
              "    .dataframe thead th {\n",
              "        text-align: right;\n",
              "    }\n",
              "</style>\n",
              "<table border=\"1\" class=\"dataframe\">\n",
              "  <thead>\n",
              "    <tr style=\"text-align: right;\">\n",
              "      <th></th>\n",
              "      <th>0</th>\n",
              "      <th>1</th>\n",
              "      <th>2</th>\n",
              "      <th>3</th>\n",
              "      <th>4</th>\n",
              "    </tr>\n",
              "  </thead>\n",
              "  <tbody>\n",
              "    <tr>\n",
              "      <th>alcohol</th>\n",
              "      <td>14.23</td>\n",
              "      <td>13.20</td>\n",
              "      <td>13.16</td>\n",
              "      <td>14.37</td>\n",
              "      <td>13.24</td>\n",
              "    </tr>\n",
              "    <tr>\n",
              "      <th>malic_acid</th>\n",
              "      <td>1.71</td>\n",
              "      <td>1.78</td>\n",
              "      <td>2.36</td>\n",
              "      <td>1.95</td>\n",
              "      <td>2.59</td>\n",
              "    </tr>\n",
              "    <tr>\n",
              "      <th>ash</th>\n",
              "      <td>2.43</td>\n",
              "      <td>2.14</td>\n",
              "      <td>2.67</td>\n",
              "      <td>2.50</td>\n",
              "      <td>2.87</td>\n",
              "    </tr>\n",
              "    <tr>\n",
              "      <th>alcalinity_of_ash</th>\n",
              "      <td>15.60</td>\n",
              "      <td>11.20</td>\n",
              "      <td>18.60</td>\n",
              "      <td>16.80</td>\n",
              "      <td>21.00</td>\n",
              "    </tr>\n",
              "    <tr>\n",
              "      <th>magnesium</th>\n",
              "      <td>127.00</td>\n",
              "      <td>100.00</td>\n",
              "      <td>101.00</td>\n",
              "      <td>113.00</td>\n",
              "      <td>118.00</td>\n",
              "    </tr>\n",
              "    <tr>\n",
              "      <th>total_phenols</th>\n",
              "      <td>2.80</td>\n",
              "      <td>2.65</td>\n",
              "      <td>2.80</td>\n",
              "      <td>3.85</td>\n",
              "      <td>2.80</td>\n",
              "    </tr>\n",
              "    <tr>\n",
              "      <th>flavanoids</th>\n",
              "      <td>3.06</td>\n",
              "      <td>2.76</td>\n",
              "      <td>3.24</td>\n",
              "      <td>3.49</td>\n",
              "      <td>2.69</td>\n",
              "    </tr>\n",
              "    <tr>\n",
              "      <th>nonflavanoid_phenols</th>\n",
              "      <td>0.28</td>\n",
              "      <td>0.26</td>\n",
              "      <td>0.30</td>\n",
              "      <td>0.24</td>\n",
              "      <td>0.39</td>\n",
              "    </tr>\n",
              "    <tr>\n",
              "      <th>proanthocyanins</th>\n",
              "      <td>2.29</td>\n",
              "      <td>1.28</td>\n",
              "      <td>2.81</td>\n",
              "      <td>2.18</td>\n",
              "      <td>1.82</td>\n",
              "    </tr>\n",
              "    <tr>\n",
              "      <th>color_intensity</th>\n",
              "      <td>5.64</td>\n",
              "      <td>4.38</td>\n",
              "      <td>5.68</td>\n",
              "      <td>7.80</td>\n",
              "      <td>4.32</td>\n",
              "    </tr>\n",
              "    <tr>\n",
              "      <th>hue</th>\n",
              "      <td>1.04</td>\n",
              "      <td>1.05</td>\n",
              "      <td>1.03</td>\n",
              "      <td>0.86</td>\n",
              "      <td>1.04</td>\n",
              "    </tr>\n",
              "    <tr>\n",
              "      <th>od280/od315_of_diluted_wines</th>\n",
              "      <td>3.92</td>\n",
              "      <td>3.40</td>\n",
              "      <td>3.17</td>\n",
              "      <td>3.45</td>\n",
              "      <td>2.93</td>\n",
              "    </tr>\n",
              "    <tr>\n",
              "      <th>proline</th>\n",
              "      <td>1065.00</td>\n",
              "      <td>1050.00</td>\n",
              "      <td>1185.00</td>\n",
              "      <td>1480.00</td>\n",
              "      <td>735.00</td>\n",
              "    </tr>\n",
              "    <tr>\n",
              "      <th>class</th>\n",
              "      <td>0.00</td>\n",
              "      <td>0.00</td>\n",
              "      <td>0.00</td>\n",
              "      <td>0.00</td>\n",
              "      <td>0.00</td>\n",
              "    </tr>\n",
              "  </tbody>\n",
              "</table>\n",
              "</div>"
            ],
            "text/plain": [
              "                                    0        1        2        3       4\n",
              "alcohol                         14.23    13.20    13.16    14.37   13.24\n",
              "malic_acid                       1.71     1.78     2.36     1.95    2.59\n",
              "ash                              2.43     2.14     2.67     2.50    2.87\n",
              "alcalinity_of_ash               15.60    11.20    18.60    16.80   21.00\n",
              "magnesium                      127.00   100.00   101.00   113.00  118.00\n",
              "total_phenols                    2.80     2.65     2.80     3.85    2.80\n",
              "flavanoids                       3.06     2.76     3.24     3.49    2.69\n",
              "nonflavanoid_phenols             0.28     0.26     0.30     0.24    0.39\n",
              "proanthocyanins                  2.29     1.28     2.81     2.18    1.82\n",
              "color_intensity                  5.64     4.38     5.68     7.80    4.32\n",
              "hue                              1.04     1.05     1.03     0.86    1.04\n",
              "od280/od315_of_diluted_wines     3.92     3.40     3.17     3.45    2.93\n",
              "proline                       1065.00  1050.00  1185.00  1480.00  735.00\n",
              "class                            0.00     0.00     0.00     0.00    0.00"
            ]
          },
          "metadata": {},
          "execution_count": 7
        }
      ]
    },
    {
      "cell_type": "code",
      "metadata": {
        "id": "P7rZcbqIb-tu",
        "colab": {
          "base_uri": "https://localhost:8080/"
        },
        "outputId": "5dbb049f-a2bf-4b59-c346-d3f66a7ca6d0"
      },
      "source": [
        "# 2.4 - conhecendo os tipos de dados do dataset\n",
        "df.info()"
      ],
      "execution_count": 8,
      "outputs": [
        {
          "output_type": "stream",
          "name": "stdout",
          "text": [
            "<class 'pandas.core.frame.DataFrame'>\n",
            "RangeIndex: 178 entries, 0 to 177\n",
            "Data columns (total 14 columns):\n",
            " #   Column                        Non-Null Count  Dtype  \n",
            "---  ------                        --------------  -----  \n",
            " 0   alcohol                       178 non-null    float64\n",
            " 1   malic_acid                    178 non-null    float64\n",
            " 2   ash                           178 non-null    float64\n",
            " 3   alcalinity_of_ash             178 non-null    float64\n",
            " 4   magnesium                     178 non-null    float64\n",
            " 5   total_phenols                 178 non-null    float64\n",
            " 6   flavanoids                    178 non-null    float64\n",
            " 7   nonflavanoid_phenols          178 non-null    float64\n",
            " 8   proanthocyanins               178 non-null    float64\n",
            " 9   color_intensity               178 non-null    float64\n",
            " 10  hue                           178 non-null    float64\n",
            " 11  od280/od315_of_diluted_wines  178 non-null    float64\n",
            " 12  proline                       178 non-null    float64\n",
            " 13  class                         178 non-null    int64  \n",
            "dtypes: float64(13), int64(1)\n",
            "memory usage: 19.6 KB\n"
          ]
        }
      ]
    },
    {
      "cell_type": "code",
      "metadata": {
        "id": "1F39erz7cWqi",
        "colab": {
          "base_uri": "https://localhost:8080/"
        },
        "outputId": "160b940e-063f-4e4a-95ea-a3a6148d2b4e"
      },
      "source": [
        "# 2.5 - Quantidade de amostrar por classe\n",
        "df['class'].value_counts()"
      ],
      "execution_count": 9,
      "outputs": [
        {
          "output_type": "execute_result",
          "data": {
            "text/plain": [
              "1    71\n",
              "0    59\n",
              "2    48\n",
              "Name: class, dtype: int64"
            ]
          },
          "metadata": {},
          "execution_count": 9
        }
      ]
    },
    {
      "cell_type": "markdown",
      "metadata": {
        "id": "c-snSE5gctDz"
      },
      "source": [
        "### 3 - Treinando o KNN"
      ]
    },
    {
      "cell_type": "code",
      "metadata": {
        "id": "IFDHoK_tc8qZ"
      },
      "source": [
        "# 3.1 - Importando train_test_split\n",
        "from sklearn.model_selection import train_test_split"
      ],
      "execution_count": 10,
      "outputs": []
    },
    {
      "cell_type": "code",
      "metadata": {
        "id": "ty1eYo40dOUg"
      },
      "source": [
        "# 3.2 - Separando os dados em treino e teste\n",
        "X_train, X_test, y_train, y_test = train_test_split(df.drop('class',axis=1), df['class'], test_size=0.3,random_state=15)"
      ],
      "execution_count": 11,
      "outputs": []
    },
    {
      "cell_type": "code",
      "metadata": {
        "id": "brkot5GKdjyn"
      },
      "source": [
        "# 3.3 - Importando o classificador KNN\n",
        "from sklearn.neighbors import KNeighborsClassifier"
      ],
      "execution_count": 12,
      "outputs": []
    },
    {
      "cell_type": "code",
      "metadata": {
        "id": "7m0mlgz8eQ5O"
      },
      "source": [
        "# 3.4 -  Definindo o número de vizinhos\n",
        "knn = KNeighborsClassifier(n_neighbors=3)"
      ],
      "execution_count": 13,
      "outputs": []
    },
    {
      "cell_type": "code",
      "metadata": {
        "id": "Knp_74HmehMO",
        "colab": {
          "base_uri": "https://localhost:8080/"
        },
        "outputId": "da73480e-7b96-401d-ddca-6e11a0132871"
      },
      "source": [
        "# 3.5 - Treinando o KNN com os dados de treino\n",
        "knn.fit(X_train, y_train)"
      ],
      "execution_count": 14,
      "outputs": [
        {
          "output_type": "execute_result",
          "data": {
            "text/plain": [
              "KNeighborsClassifier(algorithm='auto', leaf_size=30, metric='minkowski',\n",
              "                     metric_params=None, n_jobs=None, n_neighbors=3, p=2,\n",
              "                     weights='uniform')"
            ]
          },
          "metadata": {},
          "execution_count": 14
        }
      ]
    },
    {
      "cell_type": "markdown",
      "metadata": {
        "id": "JEPYUBcCuSkE"
      },
      "source": [
        "### 4 - Fazendo Predições e avaliando o resultado"
      ]
    },
    {
      "cell_type": "code",
      "metadata": {
        "id": "GHmv1K_6uhIe"
      },
      "source": [
        "# 4.1 - fazendo predições sobre os dados de teste\n",
        "resultado = knn.predict(X_test)"
      ],
      "execution_count": 15,
      "outputs": []
    },
    {
      "cell_type": "code",
      "metadata": {
        "id": "4eMuAxxsu7a1",
        "colab": {
          "base_uri": "https://localhost:8080/"
        },
        "outputId": "dae75094-bf39-486a-9bda-f78b18c4279b"
      },
      "source": [
        "# 4.2 - imprimindo as predições\n",
        "resultado"
      ],
      "execution_count": 16,
      "outputs": [
        {
          "output_type": "execute_result",
          "data": {
            "text/plain": [
              "array([1, 2, 2, 0, 1, 0, 2, 1, 0, 0, 1, 1, 1, 0, 0, 2, 1, 0, 2, 1, 2, 0,\n",
              "       0, 2, 1, 0, 1, 1, 0, 2, 1, 2, 0, 1, 1, 0, 0, 1, 2, 2, 2, 1, 0, 2,\n",
              "       1, 2, 1, 0, 0, 0, 0, 0, 0, 1])"
            ]
          },
          "metadata": {},
          "execution_count": 16
        }
      ]
    },
    {
      "cell_type": "code",
      "metadata": {
        "id": "ye-_5J5HvV1E",
        "colab": {
          "base_uri": "https://localhost:8080/",
          "height": 204
        },
        "outputId": "2ea0309c-3c74-443a-e2c4-fa6b16fe74ab"
      },
      "source": [
        "# 4.3 - imprimindo a matriz de confusão\n",
        "pd.crosstab(y_test,resultado, rownames=['Real'], colnames=['Predito'], margins=True)"
      ],
      "execution_count": 17,
      "outputs": [
        {
          "output_type": "execute_result",
          "data": {
            "text/html": [
              "<div>\n",
              "<style scoped>\n",
              "    .dataframe tbody tr th:only-of-type {\n",
              "        vertical-align: middle;\n",
              "    }\n",
              "\n",
              "    .dataframe tbody tr th {\n",
              "        vertical-align: top;\n",
              "    }\n",
              "\n",
              "    .dataframe thead th {\n",
              "        text-align: right;\n",
              "    }\n",
              "</style>\n",
              "<table border=\"1\" class=\"dataframe\">\n",
              "  <thead>\n",
              "    <tr style=\"text-align: right;\">\n",
              "      <th>Predito</th>\n",
              "      <th>0</th>\n",
              "      <th>1</th>\n",
              "      <th>2</th>\n",
              "      <th>All</th>\n",
              "    </tr>\n",
              "    <tr>\n",
              "      <th>Real</th>\n",
              "      <th></th>\n",
              "      <th></th>\n",
              "      <th></th>\n",
              "      <th></th>\n",
              "    </tr>\n",
              "  </thead>\n",
              "  <tbody>\n",
              "    <tr>\n",
              "      <th>0</th>\n",
              "      <td>16</td>\n",
              "      <td>0</td>\n",
              "      <td>2</td>\n",
              "      <td>18</td>\n",
              "    </tr>\n",
              "    <tr>\n",
              "      <th>1</th>\n",
              "      <td>2</td>\n",
              "      <td>12</td>\n",
              "      <td>5</td>\n",
              "      <td>19</td>\n",
              "    </tr>\n",
              "    <tr>\n",
              "      <th>2</th>\n",
              "      <td>3</td>\n",
              "      <td>7</td>\n",
              "      <td>7</td>\n",
              "      <td>17</td>\n",
              "    </tr>\n",
              "    <tr>\n",
              "      <th>All</th>\n",
              "      <td>21</td>\n",
              "      <td>19</td>\n",
              "      <td>14</td>\n",
              "      <td>54</td>\n",
              "    </tr>\n",
              "  </tbody>\n",
              "</table>\n",
              "</div>"
            ],
            "text/plain": [
              "Predito   0   1   2  All\n",
              "Real                    \n",
              "0        16   0   2   18\n",
              "1         2  12   5   19\n",
              "2         3   7   7   17\n",
              "All      21  19  14   54"
            ]
          },
          "metadata": {},
          "execution_count": 17
        }
      ]
    },
    {
      "cell_type": "code",
      "metadata": {
        "id": "MZfz_R-3xEMR"
      },
      "source": [
        "# 4.4 importando metrics\n",
        "from sklearn import metrics"
      ],
      "execution_count": 18,
      "outputs": []
    },
    {
      "cell_type": "code",
      "metadata": {
        "id": "s4ZH3GiQxMMI",
        "colab": {
          "base_uri": "https://localhost:8080/"
        },
        "outputId": "306aa61e-94bc-4ffd-e253-e9f8a376e09d"
      },
      "source": [
        "# 4.5 - imprimindo os indicadores de performance\n",
        "print(metrics.classification_report(y_test,resultado,target_names=wine.target_names))"
      ],
      "execution_count": 19,
      "outputs": [
        {
          "output_type": "stream",
          "name": "stdout",
          "text": [
            "              precision    recall  f1-score   support\n",
            "\n",
            "     class_0       0.76      0.89      0.82        18\n",
            "     class_1       0.63      0.63      0.63        19\n",
            "     class_2       0.50      0.41      0.45        17\n",
            "\n",
            "    accuracy                           0.65        54\n",
            "   macro avg       0.63      0.64      0.63        54\n",
            "weighted avg       0.63      0.65      0.64        54\n",
            "\n"
          ]
        }
      ]
    },
    {
      "cell_type": "markdown",
      "metadata": {
        "id": "AC-C__onxlTf"
      },
      "source": [
        "### 5 - Otimizando o parâmetro k utilizando o GridSearch"
      ]
    },
    {
      "cell_type": "code",
      "metadata": {
        "id": "u_acojmVx4xG"
      },
      "source": [
        "# 5.1 - importando GridSearchCV\n",
        "from sklearn.model_selection import GridSearchCV"
      ],
      "execution_count": 20,
      "outputs": []
    },
    {
      "cell_type": "code",
      "metadata": {
        "id": "kXmXZ9kFyCrn"
      },
      "source": [
        "# 5.2 - Definindo a lista de valores.\n",
        "k_list = list(range(1,31)) # definindo 30 k's vizinhos diferentes"
      ],
      "execution_count": 21,
      "outputs": []
    },
    {
      "cell_type": "code",
      "metadata": {
        "id": "QoQPeQFHyIcO"
      },
      "source": [
        "# 5.3 - Colocandos os valores em um dicionário\n",
        "parametros = dict(n_neighbors=k_list)"
      ],
      "execution_count": 22,
      "outputs": []
    },
    {
      "cell_type": "code",
      "metadata": {
        "id": "-xNTM3nxyUH-"
      },
      "source": [
        "# 5.4 - Instanciando o objeto GridSearch\n",
        "grid = GridSearchCV(knn, parametros, cv=5, scoring='accuracy') ## cv = cross validation "
      ],
      "execution_count": 23,
      "outputs": []
    },
    {
      "cell_type": "code",
      "metadata": {
        "id": "RBLSSR9hyuSN",
        "colab": {
          "base_uri": "https://localhost:8080/"
        },
        "outputId": "000662dc-164e-48fa-c73a-2b203c1b43e1"
      },
      "source": [
        "# 5.5 - treinando o objeto GridSearch\n",
        "grid.fit(df.drop('class',axis=1),df['class'])"
      ],
      "execution_count": 24,
      "outputs": [
        {
          "output_type": "execute_result",
          "data": {
            "text/plain": [
              "GridSearchCV(cv=5, error_score=nan,\n",
              "             estimator=KNeighborsClassifier(algorithm='auto', leaf_size=30,\n",
              "                                            metric='minkowski',\n",
              "                                            metric_params=None, n_jobs=None,\n",
              "                                            n_neighbors=3, p=2,\n",
              "                                            weights='uniform'),\n",
              "             iid='deprecated', n_jobs=None,\n",
              "             param_grid={'n_neighbors': [1, 2, 3, 4, 5, 6, 7, 8, 9, 10, 11, 12,\n",
              "                                         13, 14, 15, 16, 17, 18, 19, 20, 21, 22,\n",
              "                                         23, 24, 25, 26, 27, 28, 29, 30]},\n",
              "             pre_dispatch='2*n_jobs', refit=True, return_train_score=False,\n",
              "             scoring='accuracy', verbose=0)"
            ]
          },
          "metadata": {},
          "execution_count": 24
        }
      ]
    },
    {
      "cell_type": "code",
      "metadata": {
        "id": "Ui_xYSP_y-p9",
        "colab": {
          "base_uri": "https://localhost:8080/"
        },
        "outputId": "dda9a40e-1804-4b1b-c56c-c9e780a6c0af"
      },
      "source": [
        "# 5.6 - Imprimindo o melhor k e sua acurácia\n",
        "print(\"Melhores parametros {} com o valor de acurácia {} \".format(grid.best_params_,grid.best_score_))"
      ],
      "execution_count": 25,
      "outputs": [
        {
          "output_type": "stream",
          "name": "stdout",
          "text": [
            "Melhores parametros {'n_neighbors': 1} com o valor de acurácia 0.7250793650793651 \n"
          ]
        }
      ]
    },
    {
      "cell_type": "code",
      "metadata": {
        "id": "y3jIDhNuzzmj"
      },
      "source": [
        "# 5.7 - salvando a acurácia para os diversos valores de k\n",
        "scores = grid.cv_results_['mean_test_score']"
      ],
      "execution_count": 26,
      "outputs": []
    },
    {
      "cell_type": "code",
      "metadata": {
        "id": "jAMuiSuXzenk",
        "colab": {
          "base_uri": "https://localhost:8080/",
          "height": 421
        },
        "outputId": "2b2ee980-3e5d-49e2-c1fd-cf660e53fce6"
      },
      "source": [
        "# Formatando o gráfico\n",
        "plt.figure(figsize=(10,6))\n",
        "plt.xlabel('Parâmetro k')\n",
        "plt.ylabel('Acurácia')\n",
        "plt.title('Acurácia por k')\n",
        "# desenhando o gráfico de linha\n",
        "plt.plot(k_list,scores,color='red',linestyle='dashed',marker='o')"
      ],
      "execution_count": 27,
      "outputs": [
        {
          "output_type": "execute_result",
          "data": {
            "text/plain": [
              "[<matplotlib.lines.Line2D at 0x7fd6dff31b90>]"
            ]
          },
          "metadata": {},
          "execution_count": 27
        },
        {
          "output_type": "display_data",
          "data": {
            "image/png": "[encoded data removed]",
            "text/plain": [
              "<Figure size 720x432 with 1 Axes>"
            ]
          },
          "metadata": {
            "needs_background": "light"
          }
        }
      ]
    },
    {
      "cell_type": "markdown",
      "metadata": {
        "id": "-WU1_kOv9gNA"
      },
      "source": [
        "### 6 - Visualizando a fronteira de complexidade"
      ]
    },
    {
      "cell_type": "code",
      "metadata": {
        "id": "O_EHpfdy-ohe"
      },
      "source": [
        "# 6.1 - import do plot_decision_regions\n",
        "from mlxtend.plotting import plot_decision_regions"
      ],
      "execution_count": 28,
      "outputs": []
    },
    {
      "cell_type": "code",
      "metadata": {
        "id": "4To_Y8jSAQYr"
      },
      "source": [
        "# 6.2 - import do warnings\n",
        "import warnings"
      ],
      "execution_count": 34,
      "outputs": []
    },
    {
      "cell_type": "code",
      "metadata": {
        "id": "VHeK4byWAWlC"
      },
      "source": [
        "# 6.3 - ignorando matplotlib deprecation warning\n",
        "warnings.filterwarnings(\"ignore\")"
      ],
      "execution_count": 35,
      "outputs": []
    },
    {
      "cell_type": "code",
      "metadata": {
        "id": "pM5ZPd0v9lsi"
      },
      "source": [
        "# 6.4 - selecionando duas colunas: X será 'alcohol' e y será 'malic_acid'\n",
        "X = wine.data[:,[0,2]]\n",
        "y = wine.target"
      ],
      "execution_count": 29,
      "outputs": []
    },
    {
      "cell_type": "code",
      "metadata": {
        "id": "VmOgsuuD96Jv"
      },
      "source": [
        "# 6.5 - criando a função que imprime as fronteiras\n",
        "def plot_fronteiras(n_vizinhos):\n",
        "    knn = KNeighborsClassifier(n_neighbors=n_vizinhos)\n",
        "    knn.fit(X, y)\n",
        "    plt.figure(figsize=(8,5))\n",
        "    plot_decision_regions(X,y,clf=knn,legend=2)\n",
        "    plt.xlabel('alcohol')\n",
        "    plt.ylabel('malic_acid')\n",
        "    plt.title('Fronteiras de Complexidade - KNN')"
      ],
      "execution_count": 30,
      "outputs": []
    },
    {
      "cell_type": "code",
      "metadata": {
        "id": "TrAcx_Dq-Ejv",
        "colab": {
          "base_uri": "https://localhost:8080/",
          "height": 350
        },
        "outputId": "6d418b95-7776-4f16-c35f-4b1ad441e7b2"
      },
      "source": [
        "# 6.6 - Visualizando as fronteiras de decisão com o K=3\n",
        "plot_fronteiras(3)"
      ],
      "execution_count": 36,
      "outputs": [
        {
          "output_type": "display_data",
          "data": {
            "image/png": "[encoded data removed]",
            "text/plain": [
              "<Figure size 576x360 with 1 Axes>"
            ]
          },
          "metadata": {
            "needs_background": "light"
          }
        }
      ]
    },
    {
      "cell_type": "code",
      "metadata": {
        "id": "6AtKVUEl_qcb",
        "colab": {
          "base_uri": "https://localhost:8080/",
          "height": 350
        },
        "outputId": "2851b9ac-523b-4080-e0a1-60596bd33af6"
      },
      "source": [
        "# 6.7 - Visualizando as fronteiras de decisão com o K=1\n",
        "plot_fronteiras(1)"
      ],
      "execution_count": 37,
      "outputs": [
        {
          "output_type": "display_data",
          "data": {
            "image/png": "[encoded data removed]",
            "text/plain": [
              "<Figure size 576x360 with 1 Axes>"
            ]
          },
          "metadata": {
            "needs_background": "light"
          }
        }
      ]
    },
    {
      "cell_type": "markdown",
      "metadata": {
        "id": "cWvskVySBJjy"
      },
      "source": [
        "# Atividade\n",
        "\n",
        "Implementar o método de classificação KNN da seguinte fonte:\n",
        "\n",
        "http://www.sakurai.dev.br/classificacao-usando-knn/"
      ]
    }
  ]
}