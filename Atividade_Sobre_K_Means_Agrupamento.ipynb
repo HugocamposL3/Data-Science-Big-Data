{
  "nbformat": 4,
  "nbformat_minor": 0,
  "metadata": {
    "colab": {
      "name": "Atividade Sobre K-Means Agrupamento.ipynb",
      "provenance": [],
      "authorship_tag": "ABX9TyP55RMumlhNNEkGB7RTDuIV",
      "include_colab_link": true
    },
    "kernelspec": {
      "name": "python3",
      "display_name": "Python 3"
    },
    "language_info": {
      "name": "python"
    }
  },
  "cells": [
    {
      "cell_type": "markdown",
      "metadata": {
        "id": "view-in-github",
        "colab_type": "text"
      },
      "source": [
        "<a href=\"https://colab.research.google.com/github/HugocamposL3/Data-Science-Big-Data/blob/main/Atividade_Sobre_K_Means_Agrupamento.ipynb\" target=\"_parent\"><img src=\"https://colab.research.google.com/assets/colab-badge.svg\" alt=\"Open In Colab\"/></a>"
      ]
    },
    {
      "cell_type": "markdown",
      "metadata": {
        "id": "C1jiTCOHNPCT"
      },
      "source": [
        "##\n",
        "K-Means - Exemplo\n",
        "Projeto adaptado do link: https://datatofish.com/k-means-clustering-python/"
      ]
    },
    {
      "cell_type": "code",
      "metadata": {
        "id": "6Cz1diCmGdXU"
      },
      "source": [
        "#Importando um Biblioteca Inicial \n",
        "from pandas import DataFrame # Biblioteca para fazer um DataFrame"
      ],
      "execution_count": 1,
      "outputs": []
    },
    {
      "cell_type": "code",
      "metadata": {
        "id": "0RHs1i6_GoU3"
      },
      "source": [
        "## Escrevendo os dados manualmente em formato de dicionario\n",
        "Data = {'x': [25,34,22,27,33,33,31,22,35,34,67,54,57,43,50,57,59,52,65,47,49,48,35,33,44,45,38,43,51,46],\n",
        "        'y': [79,51,53,78,59,74,73,57,69,75,51,32,40,47,53,36,35,58,59,50,25,20,14,12,20,5,29,27,8,7]\n",
        "       }"
      ],
      "execution_count": 2,
      "outputs": []
    },
    {
      "cell_type": "code",
      "metadata": {
        "colab": {
          "base_uri": "https://localhost:8080/"
        },
        "id": "ng0CCvp6G2kx",
        "outputId": "c90744f4-b3a9-4c32-cc86-ea66ac4a4db6"
      },
      "source": [
        "## Jogando esses dados escritos em um dataframe\n",
        "df = DataFrame(Data,columns=['x','y'])\n",
        "print (df)"
      ],
      "execution_count": 3,
      "outputs": [
        {
          "output_type": "stream",
          "name": "stdout",
          "text": [
            "     x   y\n",
            "0   25  79\n",
            "1   34  51\n",
            "2   22  53\n",
            "3   27  78\n",
            "4   33  59\n",
            "5   33  74\n",
            "6   31  73\n",
            "7   22  57\n",
            "8   35  69\n",
            "9   34  75\n",
            "10  67  51\n",
            "11  54  32\n",
            "12  57  40\n",
            "13  43  47\n",
            "14  50  53\n",
            "15  57  36\n",
            "16  59  35\n",
            "17  52  58\n",
            "18  65  59\n",
            "19  47  50\n",
            "20  49  25\n",
            "21  48  20\n",
            "22  35  14\n",
            "23  33  12\n",
            "24  44  20\n",
            "25  45   5\n",
            "26  38  29\n",
            "27  43  27\n",
            "28  51   8\n",
            "29  46   7\n"
          ]
        }
      ]
    },
    {
      "cell_type": "code",
      "metadata": {
        "id": "_ueXRa2iHG5A"
      },
      "source": [
        "# Importando Novas Bibliotecas Para que o Algoritimo Funcione \n",
        "import matplotlib.pyplot as plt # Para criar Partes Gráficas no Python \n",
        "from sklearn.cluster import KMeans #  Para aplicar o conceito de K-Means no Python "
      ],
      "execution_count": 4,
      "outputs": []
    },
    {
      "cell_type": "code",
      "metadata": {
        "colab": {
          "base_uri": "https://localhost:8080/"
        },
        "id": "S9SPWjsjHr55",
        "outputId": "0b379e35-3ae5-4c54-de87-b08669497094"
      },
      "source": [
        "#Testando o algoritimo \n",
        "kmeansvariavel = KMeans(n_clusters=3).fit(df) # Linha de código para gerar 3 centroides (n_clusters=3) e testar no DataFrame (df) que criamos \n",
        "centroids = kmeansvariavel.cluster_centers_\n",
        "print(centroids)"
      ],
      "execution_count": 20,
      "outputs": [
        {
          "output_type": "stream",
          "name": "stdout",
          "text": [
            "[[29.6 66.8]\n",
            " [55.1 46.1]\n",
            " [43.2 16.7]]\n"
          ]
        }
      ]
    },
    {
      "cell_type": "code",
      "metadata": {
        "id": "74zd8jJbLezZ"
      },
      "source": [
        "distancias = kmeansvariavel.fit_transform(df)"
      ],
      "execution_count": 23,
      "outputs": []
    },
    {
      "cell_type": "code",
      "metadata": {
        "colab": {
          "base_uri": "https://localhost:8080/"
        },
        "id": "x64nPsD8MR9L",
        "outputId": "5e368e4a-9ea0-4fd5-c43b-3d26fecad3b2"
      },
      "source": [
        "distancias"
      ],
      "execution_count": 24,
      "outputs": [
        {
          "output_type": "execute_result",
          "data": {
            "text/plain": [
              "array([[13.03840481, 64.90400604, 44.59170326],\n",
              "       [16.40121947, 35.5123922 , 21.66148656],\n",
              "       [15.75436447, 42.03724539, 33.81153649],\n",
              "       [11.49782588, 63.40449511, 42.51141023],\n",
              "       [ 8.50881895, 43.51241202, 25.58945095],\n",
              "       [ 7.96241169, 58.20077319, 35.59241492],\n",
              "       [ 6.35609943, 57.60668364, 36.11675511],\n",
              "       [12.4016128 , 45.53602969, 34.84852938],\n",
              "       [ 5.83095189, 52.93892708, 30.46998523],\n",
              "       [ 9.3059121 , 59.02143678, 35.78295684],\n",
              "       [40.60049261, 41.74841314, 12.86934342],\n",
              "       [42.50176467, 18.72778684, 14.14284271],\n",
              "       [38.32753579, 27.08006647,  6.38905314],\n",
              "       [23.9081576 , 30.30066006, 12.13342491],\n",
              "       [24.6292509 , 36.93142293,  8.58020979],\n",
              "       [41.22377955, 23.72614592, 10.27715914],\n",
              "       [43.30819784, 24.17705524, 11.76520293],\n",
              "       [24.06657433, 42.22712398, 12.29715414],\n",
              "       [36.24913792, 47.58707808, 16.26099628],\n",
              "       [24.18677324, 33.51611553,  8.98999444],\n",
              "       [46.08253465, 10.12570985, 21.96406156],\n",
              "       [50.2871753 ,  5.82494635, 27.048475  ],\n",
              "       [53.07541804,  8.63307593, 37.8737376 ],\n",
              "       [54.90537314, 11.23076133, 40.63520641],\n",
              "       [48.96529383,  3.39558537, 28.36229892],\n",
              "       [63.68987361, 11.83765179, 42.32280709],\n",
              "       [38.72208672, 13.35402561, 24.18305192],\n",
              "       [41.99523783, 10.30194156, 22.6101747 ],\n",
              "       [62.57315718, 11.68460526, 38.31996868],\n",
              "       [62.00806399, 10.09603883, 40.14498723]])"
            ]
          },
          "metadata": {},
          "execution_count": 24
        }
      ]
    },
    {
      "cell_type": "code",
      "metadata": {
        "colab": {
          "base_uri": "https://localhost:8080/"
        },
        "id": "FXmZkwqBMZWJ",
        "outputId": "3ded6326-1872-42f1-d2c6-999178b80b3d"
      },
      "source": [
        "kmeansvariavel.labels_"
      ],
      "execution_count": 25,
      "outputs": [
        {
          "output_type": "execute_result",
          "data": {
            "text/plain": [
              "array([0, 0, 0, 0, 0, 0, 0, 0, 0, 0, 2, 2, 2, 2, 2, 2, 2, 2, 2, 2, 1, 1,\n",
              "       1, 1, 1, 1, 1, 1, 1, 1], dtype=int32)"
            ]
          },
          "metadata": {},
          "execution_count": 25
        }
      ]
    },
    {
      "cell_type": "code",
      "metadata": {
        "id": "HG4_UNzMI7G6"
      },
      "source": [
        "plt.scatter(df['x'], df['y'], c= kmeans_variavel.labels_.astype(float), s=50, alpha=0.5)\n",
        "plt.scatter(centroids[:, 0], centroids[:, 1], c='red', s=100)\n",
        "plt.show()"
      ],
      "execution_count": null,
      "outputs": []
    },
    {
      "cell_type": "code",
      "metadata": {
        "id": "fiHi6rX8JgwL"
      },
      "source": [
        "wcss = []"
      ],
      "execution_count": 10,
      "outputs": []
    },
    {
      "cell_type": "code",
      "metadata": {
        "colab": {
          "base_uri": "https://localhost:8080/"
        },
        "id": "YnemMf3aJiE5",
        "outputId": "65d9468e-a9d3-455b-cc05-8eb63fb1c667"
      },
      "source": [
        "for i in range(1, 11):\n",
        "    kmeans_variavel = KMeans(n_clusters = i, init = 'random')\n",
        "    kmeans_variavel.fit(df)\n",
        "    print (i,kmeans_variavel.inertia_)\n",
        "    wcss.append(kmeans_variavel.inertia_) "
      ],
      "execution_count": 13,
      "outputs": [
        {
          "output_type": "stream",
          "name": "stdout",
          "text": [
            "1 19581.76666666667\n",
            "2 7425.392857142857\n",
            "3 3649.5000000000005\n",
            "4 2698.416666666667\n",
            "5 2000.0523809523809\n",
            "6 1389.2166666666665\n",
            "7 1084.797619047619\n",
            "8 846.3833333333334\n",
            "9 649.7500000000001\n",
            "10 496.0\n"
          ]
        }
      ]
    },
    {
      "cell_type": "code",
      "metadata": {
        "colab": {
          "base_uri": "https://localhost:8080/",
          "height": 295
        },
        "id": "06v5IrnbJ5hD",
        "outputId": "bcba1d4d-b804-43a1-aeb8-cb60e1b8c438"
      },
      "source": [
        "# 4.3 - gráfico do cotovelo  - Seguindo pelo o gráfico o numero de K's ideias é o numero 03.\n",
        "plt.plot(range(1, 11), wcss)\n",
        "plt.title('O Metodo Elbow')\n",
        "plt.xlabel('Numero de Clusters')\n",
        "plt.ylabel('WSS') #within cluster sum of squares\n",
        "plt.show()"
      ],
      "execution_count": 14,
      "outputs": [
        {
          "output_type": "display_data",
          "data": {
            "image/png": "[encoded data removed]",
            "text/plain": [
              "<Figure size 432x288 with 1 Axes>"
            ]
          },
          "metadata": {
            "needs_background": "light"
          }
        }
      ]
    },
    {
      "cell_type": "code",
      "metadata": {
        "id": "Cz40kDScKMLZ"
      },
      "source": [
        "# 5.1 - criando novos dados\n",
        "novos_dados = [\n",
        "        [ 50, 70],\n",
        "        [ 90, 20],\n",
        "        [ 35, 55]\n",
        "    ]"
      ],
      "execution_count": 29,
      "outputs": []
    },
    {
      "cell_type": "code",
      "metadata": {
        "colab": {
          "base_uri": "https://localhost:8080/"
        },
        "id": "QJgUK4QzNgRt",
        "outputId": "7499485b-3617-43c1-9c69-6940c35e74d2"
      },
      "source": [
        "#5.1a - Criando um k-means novo pq os novos dados não estão escalados\n",
        "maria = KMeans(n_clusters=3,init='random')\n",
        "maria.fit(df)"
      ],
      "execution_count": 30,
      "outputs": [
        {
          "output_type": "execute_result",
          "data": {
            "text/plain": [
              "KMeans(algorithm='auto', copy_x=True, init='random', max_iter=300, n_clusters=3,\n",
              "       n_init=10, n_jobs=None, precompute_distances='auto', random_state=None,\n",
              "       tol=0.0001, verbose=0)"
            ]
          },
          "metadata": {},
          "execution_count": 30
        }
      ]
    },
    {
      "cell_type": "code",
      "metadata": {
        "colab": {
          "base_uri": "https://localhost:8080/"
        },
        "id": "8L3bcxZFNilu",
        "outputId": "ca620102-263a-4fe7-b826-66b197d09c96"
      },
      "source": [
        "# 5.2 - Encontrando a classe\n",
        "maria.predict(novos_dados)"
      ],
      "execution_count": 31,
      "outputs": [
        {
          "output_type": "execute_result",
          "data": {
            "text/plain": [
              "array([2, 0, 2], dtype=int32)"
            ]
          },
          "metadata": {},
          "execution_count": 31
        }
      ]
    },
    {
      "cell_type": "code",
      "metadata": {
        "id": "GXR8EDVOP66G"
      },
      "source": [
        "x=[25,34,22,27,33,33,31,22,35,34,67,54,57,43,50,57,59,52,65,47,49,48,35,33,44,45,38,43,51,46]\n",
        "y=[79,51,53,78,59,74,73,57,69,75,51,32,40,47,53,36,35,58,59,50,25,20,14,12,20,5,29,27,8,7]"
      ],
      "execution_count": 37,
      "outputs": []
    },
    {
      "cell_type": "code",
      "metadata": {
        "colab": {
          "base_uri": "https://localhost:8080/",
          "height": 283
        },
        "id": "Fazd6zanQDub",
        "outputId": "c47ce56c-3fff-4974-b09e-6a34f37c0ee1"
      },
      "source": [
        "plt.scatter(x,y)"
      ],
      "execution_count": 36,
      "outputs": [
        {
          "output_type": "execute_result",
          "data": {
            "text/plain": [
              "<matplotlib.collections.PathCollection at 0x7fe4a350a0d0>"
            ]
          },
          "metadata": {},
          "execution_count": 36
        },
        {
          "output_type": "display_data",
          "data": {
            "image/png": "[encoded data removed]",
            "text/plain": [
              "<Figure size 432x288 with 1 Axes>"
            ]
          },
          "metadata": {
            "needs_background": "light"
          }
        }
      ]
    }
  ]
}